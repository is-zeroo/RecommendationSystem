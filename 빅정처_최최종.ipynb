{
  "nbformat": 4,
  "nbformat_minor": 0,
  "metadata": {
    "colab": {
      "provenance": [],
      "authorship_tag": "ABX9TyOTq+aQ1YUPvgFRobJpGMrJ"
    },
    "kernelspec": {
      "name": "python3",
      "display_name": "Python 3"
    },
    "language_info": {
      "name": "python"
    }
  },
  "cells": [
    {
      "cell_type": "code",
      "execution_count": null,
      "metadata": {
        "id": "ayY8gxiynh56"
      },
      "outputs": [],
      "source": [
        "import numpy as np\n",
        "\n",
        "import torch\n",
        "from torch import nn\n",
        "from torch import optim\n",
        "from torch.utils.data import Dataset, DataLoader\n",
        "\n",
        "import pandas as pd\n",
        "import scipy.sparse as sp\n",
        "from sklearn.model_selection import train_test_split"
      ]
    },
    {
      "cell_type": "code",
      "source": [
        "df = pd.read_csv('/content/배달_Dataset_csv.csv', encoding = 'cp949')\n",
        "\n",
        "df.columns = ['User', 'Store', 'Category', 'Order_num', 'Picture', 'Rating', 'Comment']\n",
        "df.head()"
      ],
      "metadata": {
        "colab": {
          "base_uri": "https://localhost:8080/",
          "height": 319
        },
        "id": "dk_Kz4LenkeX",
        "outputId": "d21f3f68-dd18-4b36-aa3e-f5500dd261cc"
      },
      "execution_count": null,
      "outputs": [
        {
          "output_type": "execute_result",
          "data": {
            "text/html": [
              "\n",
              "  <div id=\"df-e501c9dd-340e-4e05-ae88-be70d1a17838\">\n",
              "    <div class=\"colab-df-container\">\n",
              "      <div>\n",
              "<style scoped>\n",
              "    .dataframe tbody tr th:only-of-type {\n",
              "        vertical-align: middle;\n",
              "    }\n",
              "\n",
              "    .dataframe tbody tr th {\n",
              "        vertical-align: top;\n",
              "    }\n",
              "\n",
              "    .dataframe thead th {\n",
              "        text-align: right;\n",
              "    }\n",
              "</style>\n",
              "<table border=\"1\" class=\"dataframe\">\n",
              "  <thead>\n",
              "    <tr style=\"text-align: right;\">\n",
              "      <th></th>\n",
              "      <th>User</th>\n",
              "      <th>Store</th>\n",
              "      <th>Category</th>\n",
              "      <th>Order_num</th>\n",
              "      <th>Picture</th>\n",
              "      <th>Rating</th>\n",
              "      <th>Comment</th>\n",
              "    </tr>\n",
              "  </thead>\n",
              "  <tbody>\n",
              "    <tr>\n",
              "      <th>0</th>\n",
              "      <td>1</td>\n",
              "      <td>남매컵밥</td>\n",
              "      <td>한식</td>\n",
              "      <td>3</td>\n",
              "      <td>O</td>\n",
              "      <td>5</td>\n",
              "      <td>NaN</td>\n",
              "    </tr>\n",
              "    <tr>\n",
              "      <th>1</th>\n",
              "      <td>1</td>\n",
              "      <td>화덕에구운족발신선생</td>\n",
              "      <td>족발, 보쌈</td>\n",
              "      <td>1</td>\n",
              "      <td>O</td>\n",
              "      <td>4</td>\n",
              "      <td>NaN</td>\n",
              "    </tr>\n",
              "    <tr>\n",
              "      <th>2</th>\n",
              "      <td>1</td>\n",
              "      <td>감성커피</td>\n",
              "      <td>디저트</td>\n",
              "      <td>6</td>\n",
              "      <td>O</td>\n",
              "      <td>5</td>\n",
              "      <td>NaN</td>\n",
              "    </tr>\n",
              "    <tr>\n",
              "      <th>3</th>\n",
              "      <td>1</td>\n",
              "      <td>옥수동묵은지김치찜</td>\n",
              "      <td>한식</td>\n",
              "      <td>4</td>\n",
              "      <td>O</td>\n",
              "      <td>5</td>\n",
              "      <td>NaN</td>\n",
              "    </tr>\n",
              "    <tr>\n",
              "      <th>4</th>\n",
              "      <td>1</td>\n",
              "      <td>장독대항아리보쌈</td>\n",
              "      <td>족발, 보쌈</td>\n",
              "      <td>1</td>\n",
              "      <td>O</td>\n",
              "      <td>5</td>\n",
              "      <td>먹는데 정신팔려 사진을못남겼숩니다.이해해주세요.고기좋은건 누구나 다인정할겁니다. 보...</td>\n",
              "    </tr>\n",
              "  </tbody>\n",
              "</table>\n",
              "</div>\n",
              "      <button class=\"colab-df-convert\" onclick=\"convertToInteractive('df-e501c9dd-340e-4e05-ae88-be70d1a17838')\"\n",
              "              title=\"Convert this dataframe to an interactive table.\"\n",
              "              style=\"display:none;\">\n",
              "        \n",
              "  <svg xmlns=\"http://www.w3.org/2000/svg\" height=\"24px\"viewBox=\"0 0 24 24\"\n",
              "       width=\"24px\">\n",
              "    <path d=\"M0 0h24v24H0V0z\" fill=\"none\"/>\n",
              "    <path d=\"M18.56 5.44l.94 2.06.94-2.06 2.06-.94-2.06-.94-.94-2.06-.94 2.06-2.06.94zm-11 1L8.5 8.5l.94-2.06 2.06-.94-2.06-.94L8.5 2.5l-.94 2.06-2.06.94zm10 10l.94 2.06.94-2.06 2.06-.94-2.06-.94-.94-2.06-.94 2.06-2.06.94z\"/><path d=\"M17.41 7.96l-1.37-1.37c-.4-.4-.92-.59-1.43-.59-.52 0-1.04.2-1.43.59L10.3 9.45l-7.72 7.72c-.78.78-.78 2.05 0 2.83L4 21.41c.39.39.9.59 1.41.59.51 0 1.02-.2 1.41-.59l7.78-7.78 2.81-2.81c.8-.78.8-2.07 0-2.86zM5.41 20L4 18.59l7.72-7.72 1.47 1.35L5.41 20z\"/>\n",
              "  </svg>\n",
              "      </button>\n",
              "      \n",
              "  <style>\n",
              "    .colab-df-container {\n",
              "      display:flex;\n",
              "      flex-wrap:wrap;\n",
              "      gap: 12px;\n",
              "    }\n",
              "\n",
              "    .colab-df-convert {\n",
              "      background-color: #E8F0FE;\n",
              "      border: none;\n",
              "      border-radius: 50%;\n",
              "      cursor: pointer;\n",
              "      display: none;\n",
              "      fill: #1967D2;\n",
              "      height: 32px;\n",
              "      padding: 0 0 0 0;\n",
              "      width: 32px;\n",
              "    }\n",
              "\n",
              "    .colab-df-convert:hover {\n",
              "      background-color: #E2EBFA;\n",
              "      box-shadow: 0px 1px 2px rgba(60, 64, 67, 0.3), 0px 1px 3px 1px rgba(60, 64, 67, 0.15);\n",
              "      fill: #174EA6;\n",
              "    }\n",
              "\n",
              "    [theme=dark] .colab-df-convert {\n",
              "      background-color: #3B4455;\n",
              "      fill: #D2E3FC;\n",
              "    }\n",
              "\n",
              "    [theme=dark] .colab-df-convert:hover {\n",
              "      background-color: #434B5C;\n",
              "      box-shadow: 0px 1px 3px 1px rgba(0, 0, 0, 0.15);\n",
              "      filter: drop-shadow(0px 1px 2px rgba(0, 0, 0, 0.3));\n",
              "      fill: #FFFFFF;\n",
              "    }\n",
              "  </style>\n",
              "\n",
              "      <script>\n",
              "        const buttonEl =\n",
              "          document.querySelector('#df-e501c9dd-340e-4e05-ae88-be70d1a17838 button.colab-df-convert');\n",
              "        buttonEl.style.display =\n",
              "          google.colab.kernel.accessAllowed ? 'block' : 'none';\n",
              "\n",
              "        async function convertToInteractive(key) {\n",
              "          const element = document.querySelector('#df-e501c9dd-340e-4e05-ae88-be70d1a17838');\n",
              "          const dataTable =\n",
              "            await google.colab.kernel.invokeFunction('convertToInteractive',\n",
              "                                                     [key], {});\n",
              "          if (!dataTable) return;\n",
              "\n",
              "          const docLinkHtml = 'Like what you see? Visit the ' +\n",
              "            '<a target=\"_blank\" href=https://colab.research.google.com/notebooks/data_table.ipynb>data table notebook</a>'\n",
              "            + ' to learn more about interactive tables.';\n",
              "          element.innerHTML = '';\n",
              "          dataTable['output_type'] = 'display_data';\n",
              "          await google.colab.output.renderOutput(dataTable, element);\n",
              "          const docLink = document.createElement('div');\n",
              "          docLink.innerHTML = docLinkHtml;\n",
              "          element.appendChild(docLink);\n",
              "        }\n",
              "      </script>\n",
              "    </div>\n",
              "  </div>\n",
              "  "
            ],
            "text/plain": [
              "   User       Store Category  Order_num Picture  Rating  \\\n",
              "0     1        남매컵밥       한식          3       O       5   \n",
              "1     1  화덕에구운족발신선생   족발, 보쌈          1       O       4   \n",
              "2     1        감성커피      디저트          6       O       5   \n",
              "3     1   옥수동묵은지김치찜       한식          4       O       5   \n",
              "4     1    장독대항아리보쌈   족발, 보쌈          1       O       5   \n",
              "\n",
              "                                             Comment  \n",
              "0                                                NaN  \n",
              "1                                                NaN  \n",
              "2                                                NaN  \n",
              "3                                                NaN  \n",
              "4  먹는데 정신팔려 사진을못남겼숩니다.이해해주세요.고기좋은건 누구나 다인정할겁니다. 보...  "
            ]
          },
          "metadata": {},
          "execution_count": 2
        }
      ]
    },
    {
      "cell_type": "code",
      "source": [
        "df.shape"
      ],
      "metadata": {
        "colab": {
          "base_uri": "https://localhost:8080/"
        },
        "id": "Us4RlXGgIJtI",
        "outputId": "545ee625-6d19-4055-a37a-715bfa44e1e0"
      },
      "execution_count": null,
      "outputs": [
        {
          "output_type": "execute_result",
          "data": {
            "text/plain": [
              "(487, 9)"
            ]
          },
          "metadata": {},
          "execution_count": 12
        }
      ]
    },
    {
      "cell_type": "code",
      "source": [
        "def prepare_dataset(df):\n",
        "\n",
        "    df['user_id'] = df['User'].astype(\"category\").cat.codes\n",
        "    df['item_id'] = df['Store'].astype(\"category\").cat.codes\n",
        "\n",
        "    pivot = df.pivot_table(index = 'user_id', columns = 'item_id')['Order_num']\n",
        "    pivot.fillna(0, inplace = True)\n",
        "\n",
        "    df = df[['user_id', 'item_id', 'Order_num']] \n",
        "    df_train, df_test = train_test_split(df)\n",
        "\n",
        "    users = list(np.sort(df.user_id.unique())) \n",
        "    items = list(np.sort(df.item_id.unique())) \n",
        "\n",
        "    rows = df_train['user_id'].astype(int)   \n",
        "    cols = df_train['item_id'].astype(int)\n",
        "    \n",
        "    uids = np.array(rows.tolist())\n",
        "    iids = np.array(cols.tolist())\n",
        "\n",
        "    df_neg = get_negatives(uids, iids, items, df_test)\n",
        "\n",
        "    return uids, iids, df_train, df_test, df_neg, users, items, pivot\n",
        "    "
      ],
      "metadata": {
        "id": "7hRtblrznkbD"
      },
      "execution_count": null,
      "outputs": []
    },
    {
      "cell_type": "code",
      "source": [
        "label = pivot.stack()\n",
        "print(type(label))\n",
        "label = pd.DataFrame(label)\n",
        "label"
      ],
      "metadata": {
        "colab": {
          "base_uri": "https://localhost:8080/",
          "height": 232
        },
        "id": "l68vRd5Aqup8",
        "outputId": "ff15bb5e-ee85-4c20-f1e0-f73792adde2f"
      },
      "execution_count": null,
      "outputs": [
        {
          "output_type": "error",
          "ename": "NameError",
          "evalue": "ignored",
          "traceback": [
            "\u001b[0;31m---------------------------------------------------------------------------\u001b[0m",
            "\u001b[0;31mNameError\u001b[0m                                 Traceback (most recent call last)",
            "\u001b[0;32m<ipython-input-4-41b133d4205d>\u001b[0m in \u001b[0;36m<module>\u001b[0;34m()\u001b[0m\n\u001b[0;32m----> 1\u001b[0;31m \u001b[0mlabel\u001b[0m \u001b[0;34m=\u001b[0m \u001b[0mpivot\u001b[0m\u001b[0;34m.\u001b[0m\u001b[0mstack\u001b[0m\u001b[0;34m(\u001b[0m\u001b[0;34m)\u001b[0m\u001b[0;34m\u001b[0m\u001b[0;34m\u001b[0m\u001b[0m\n\u001b[0m\u001b[1;32m      2\u001b[0m \u001b[0mprint\u001b[0m\u001b[0;34m(\u001b[0m\u001b[0mtype\u001b[0m\u001b[0;34m(\u001b[0m\u001b[0mlabel\u001b[0m\u001b[0;34m)\u001b[0m\u001b[0;34m)\u001b[0m\u001b[0;34m\u001b[0m\u001b[0;34m\u001b[0m\u001b[0m\n\u001b[1;32m      3\u001b[0m \u001b[0mlabel\u001b[0m \u001b[0;34m=\u001b[0m \u001b[0mpd\u001b[0m\u001b[0;34m.\u001b[0m\u001b[0mDataFrame\u001b[0m\u001b[0;34m(\u001b[0m\u001b[0mlabel\u001b[0m\u001b[0;34m)\u001b[0m\u001b[0;34m\u001b[0m\u001b[0;34m\u001b[0m\u001b[0m\n\u001b[1;32m      4\u001b[0m \u001b[0mlabel\u001b[0m\u001b[0;34m\u001b[0m\u001b[0;34m\u001b[0m\u001b[0m\n",
            "\u001b[0;31mNameError\u001b[0m: name 'pivot' is not defined"
          ]
        }
      ]
    },
    {
      "cell_type": "code",
      "source": [
        "def get_negatives(uids, iids, items, df_test) :\n",
        "\n",
        "  negativeList = []\n",
        "  \n",
        "  test_u = df_test['user_id'].values.tolist()\n",
        "  test_i = df_test['item_id'].values.tolist()\n",
        "\n",
        "  test_ratings = list(zip(test_u, test_i))\n",
        "  zipped = set(zip(uids, iids))\n",
        "\n",
        "  for (u, i) in test_ratings :\n",
        "\n",
        "    negative = []\n",
        "    negative.append((u, i))\n",
        "\n",
        "    for t in range(100) :\n",
        "\n",
        "      j = np.random.randint(len(items))\n",
        "\n",
        "      while (u, j) in zipped :\n",
        "        j = np.random.randint(len(items))\n",
        "\n",
        "      negative.append(j)\n",
        "    negativeList.append(negative)\n",
        "\n",
        "  df_neg = pd.DataFrame(negativeList)\n",
        "\n",
        "  return df_neg"
      ],
      "metadata": {
        "id": "hvc5SdU6nkX7"
      },
      "execution_count": null,
      "outputs": []
    },
    {
      "cell_type": "markdown",
      "source": [
        "### 훈련데이터 로더"
      ],
      "metadata": {
        "id": "KsCjBQ-NoDfW"
      }
    },
    {
      "cell_type": "code",
      "source": [
        "# Train\n",
        "def get_train_instances(uids, iids, num_neg, num_items) :\n",
        "\n",
        "  user_input, item_input, labels = [], [], [] \n",
        "  zipped = set(zip(uids, iids))\n",
        "\n",
        "  for (u, i) in zip(uids, iids) :\n",
        "\n",
        "    user_input.append(u)\n",
        "    item_input.append(i)\n",
        "    labels.append(1)\n",
        "\n",
        "    for t in range(num_neg) :\n",
        "\n",
        "      j = np.random.randint(num_items)\n",
        "      while (u, j) in zipped :\n",
        "\n",
        "        j = np.random.randint(num_items)\n",
        "      user_input.append(u)\n",
        "      item_input.append(j)\n",
        "      labels.append(0)\n",
        "\n",
        "  return user_input, item_input, labels"
      ],
      "metadata": {
        "id": "gZdPge0SnkVQ"
      },
      "execution_count": null,
      "outputs": []
    },
    {
      "cell_type": "code",
      "source": [
        "uids, iids, df_train, df_test, df_neg, users, items, pivot = prepare_dataset(df)\n",
        "user_input, item_input, labels = get_train_instances(uids, iids, num_neg = 4, num_items = len(items))"
      ],
      "metadata": {
        "id": "807ut0VKnkSt"
      },
      "execution_count": null,
      "outputs": []
    },
    {
      "cell_type": "code",
      "source": [
        "len(user_input), len(item_input), len(labels)"
      ],
      "metadata": {
        "colab": {
          "base_uri": "https://localhost:8080/"
        },
        "id": "GKtBBjn6Hxxf",
        "outputId": "8b464dfa-ea28-4038-84d6-7df89b7ff4a7"
      },
      "execution_count": null,
      "outputs": [
        {
          "output_type": "execute_result",
          "data": {
            "text/plain": [
              "(1825, 1825, 1825)"
            ]
          },
          "metadata": {},
          "execution_count": 10
        }
      ]
    },
    {
      "cell_type": "code",
      "source": [],
      "metadata": {
        "id": "AAZ4tP1PHxs_"
      },
      "execution_count": null,
      "outputs": []
    },
    {
      "cell_type": "code",
      "source": [
        "len(items), len(users)"
      ],
      "metadata": {
        "id": "Kzl2wv2rn3vT",
        "colab": {
          "base_uri": "https://localhost:8080/"
        },
        "outputId": "34db7868-98ae-43f4-bf42-7ac028c021bb"
      },
      "execution_count": null,
      "outputs": [
        {
          "output_type": "execute_result",
          "data": {
            "text/plain": [
              "(214, 30)"
            ]
          },
          "metadata": {},
          "execution_count": 11
        }
      ]
    },
    {
      "cell_type": "code",
      "source": [
        "len(labels)"
      ],
      "metadata": {
        "id": "YptJSUV2oS3U",
        "colab": {
          "base_uri": "https://localhost:8080/"
        },
        "outputId": "e6f6e8a3-5003-438c-d972-e5d9a4db6df1"
      },
      "execution_count": null,
      "outputs": [
        {
          "output_type": "execute_result",
          "data": {
            "text/plain": [
              "1825"
            ]
          },
          "metadata": {},
          "execution_count": 9
        }
      ]
    },
    {
      "cell_type": "code",
      "source": [
        "class CustomDataset(Dataset) :\n",
        "\n",
        "  def __init__(self) :\n",
        "    self.users = user_input\n",
        "    self.items = item_input\n",
        "    self.labels = labels\n",
        "\n",
        "  def __len__(self) :\n",
        "\n",
        "    return len(self.users)\n",
        "\n",
        "  def __getitem__(self, idx) :\n",
        "    user = self.users[idx]\n",
        "    item = self.items[idx]\n",
        "    label = self.labels[idx]\n",
        "\n",
        "    return user, item, label\n",
        "\n",
        "dataset = CustomDataset()\n",
        "\n",
        "loader = DataLoader(dataset = dataset, \n",
        "                    batch_size = 128, \n",
        "                    shuffle = True, \n",
        "                    drop_last = True)"
      ],
      "metadata": {
        "id": "ylbVJ420nkP_"
      },
      "execution_count": null,
      "outputs": []
    },
    {
      "cell_type": "markdown",
      "source": [
        "### 테스트 데이터로더"
      ],
      "metadata": {
        "id": "JxR4zQgKoHP-"
      }
    },
    {
      "cell_type": "code",
      "source": [
        "def get_test_instances(num_neg, num_items) :\n",
        "\n",
        "  user_test, item_test, labels = [], [], []\n",
        "\n",
        "  zipped = set(test_ratings)\n",
        "\n",
        "  for (u, i) in test_ratings :\n",
        "\n",
        "    user_test.append(u)\n",
        "    item_test.append(i)\n",
        "    labels.append(1)\n",
        "\n",
        "    for t in range(num_neg) :\n",
        "\n",
        "      j = np.random.randint(num_items)\n",
        "      while (u, j) in zipped :\n",
        "\n",
        "        j = np.random.randint(num_items)\n",
        "\n",
        "        user_test.append(u)\n",
        "        item_test.append(j)\n",
        "        labels.append(0)\n",
        "\n",
        "  return labels\n",
        "\n",
        "labels = get_test_instances(num_neg = 4, num_items = len(items))"
      ],
      "metadata": {
        "id": "wtqCyc03q0Sf"
      },
      "execution_count": null,
      "outputs": []
    },
    {
      "cell_type": "code",
      "source": [
        "# Test\n",
        "test_u = df_test['user_id'].values.tolist()\n",
        "test_i = df_test['item_id'].values.tolist()\n",
        "\n",
        "test_ratings = list(zip(test_u, test_i))\n",
        "df_neg = df_neg.drop(df_neg.columns[0], axis = 1)\n",
        "test_negatives = df_neg.values.tolist()\n",
        "\n",
        "def eval_rating(idx, test_ratings, test_negatives) :\n",
        "\n",
        "  items = test_negatives[idx]\n",
        "  users = test_ratings[idx][0]\n",
        "  holdout = test_ratings[idx][1]\n",
        "  items.append(holdout)\n",
        "\n",
        "  return items, users\n",
        "\n",
        "for user_idx in range(len(test_ratings)) :\n",
        "\n",
        "  test_items, test_users = eval_rating(user_idx, test_ratings, test_negatives)"
      ],
      "metadata": {
        "id": "K7z3A0mpnkNf"
      },
      "execution_count": null,
      "outputs": []
    },
    {
      "cell_type": "code",
      "source": [
        "class CustomDataset(Dataset) :\n",
        "\n",
        "  def __init__(self) :\n",
        "    self.users = test_users\n",
        "    self.items = test_items\n",
        "    self.labels = labels\n",
        "\n",
        "  def __len__(self) :\n",
        "\n",
        "    return len(self.users)\n",
        "\n",
        "  def __getitem__(self, idx) :\n",
        "\n",
        "    user_test = self.users[idx]\n",
        "    item_test = self.items[idx]\n",
        "    label_test = self.labels[idx]\n",
        "\n",
        "    return user_test, item_test, label_test\n",
        "\n",
        "test_dataset = CustomDataset()\n",
        "\n",
        "test_loader = DataLoader(dataset = dataset, \n",
        "                         batch_size = 128, \n",
        "                         shuffle = True, \n",
        "                         drop_last = True)"
      ],
      "metadata": {
        "id": "haP7EMjFnkIN"
      },
      "execution_count": null,
      "outputs": []
    },
    {
      "cell_type": "markdown",
      "source": [
        "## 모델 생성"
      ],
      "metadata": {
        "id": "X8y18RvZn8ou"
      }
    },
    {
      "cell_type": "code",
      "source": [
        "class  GMF_and_MLP(nn.Module) :\n",
        "\n",
        "  def __init__(self, user_num, item_num) :\n",
        "\n",
        "    super(GMF_and_MLP, self).__init__()\n",
        "\n",
        "    self.user_num = user_num\n",
        "    self.item_num = item_num\n",
        "\n",
        "    nf =  10\n",
        "\n",
        "    self.gmf_user_embedding = nn.Embedding(user_num, nf)\n",
        "    self.gmf_item_embedding = nn.Embedding(item_num, nf)\n",
        "\n",
        "    self.mlp_user_embedding = nn.Embedding(user_num, nf)\n",
        "    self.mlp_item_embedding = nn.Embedding(item_num, nf)\n",
        "\n",
        "    self.dropout = nn.Dropout(0.2)\n",
        "    input_size = nf * 2\n",
        "\n",
        "    self.layer1 = nn.Sequential(\n",
        "        nn.Linear(input_size, input_size // 2),\n",
        "        nn.ReLU(),\n",
        "        nn.Dropout(0.2)\n",
        "    )\n",
        "\n",
        "    input_size1 = input_size // 2\n",
        "\n",
        "    self.layer2 = nn.Sequential(\n",
        "        nn.Linear(input_size1, input_size1 // 2),\n",
        "        nn.ReLU(),\n",
        "        nn.Dropout(0.2)\n",
        "    )\n",
        "\n",
        "    input_size2 = input_size1 // 2\n",
        "\n",
        "    self.layer3 = nn.Sequential(\n",
        "        nn.Linear(input_size2, input_size2 // 2),\n",
        "        nn.ReLU()\n",
        "    )\n",
        "\n",
        "    input_size3 = input_size2 // 2\n",
        "\n",
        "    self.fc_layer = nn.Sequential(\n",
        "        nn.Linear(nf + input_size3, 1)\n",
        "    )\n",
        "\n",
        "    for m in self.layer3 :\n",
        "      if isinstance(m, nn.Linear) :\n",
        "        nn.init.xavier_uniform_(m.weight)\n",
        "\n",
        "    for m in self.fc_layer :\n",
        "      if isinstance(m, nn.Linear) :\n",
        "        nn.init.xavier_uniform_(m.weight)\n",
        "\n",
        "  def forward(self, user, item):\n",
        "\n",
        "    gmf_user_embedding = self.gmf_user_embedding(user)\n",
        "    gmf_item_embedding = self.gmf_item_embedding(item)\n",
        "    output_gmf = (gmf_user_embedding * gmf_item_embedding)\n",
        "\n",
        "    mlp_user_embedding = self.mlp_user_embedding(user)\n",
        "    mlp_item_embedding = self.mlp_item_embedding(item)\n",
        "\n",
        "    mlp_concat = torch.cat((mlp_user_embedding, mlp_item_embedding), -1)\n",
        "\n",
        "    out_mlp = self.dropout(mlp_concat)\n",
        "    out_mlp = self.layer1(out_mlp)\n",
        "    out_mlp = self.layer2(out_mlp)\n",
        "    out_mlp = self.layer3(out_mlp)\n",
        "\n",
        "    self.merged = torch.cat((out_mlp, output_gmf), -1)\n",
        "\n",
        "    out = self.fc_layer(self.merged)\n",
        "    out = out.view(-1)\n",
        "\n",
        "    return out"
      ],
      "metadata": {
        "id": "QMWzmQ6on8Vm"
      },
      "execution_count": null,
      "outputs": []
    },
    {
      "cell_type": "markdown",
      "source": [
        "## 모델 적용"
      ],
      "metadata": {
        "id": "IFwdUhWdoZQf"
      }
    },
    {
      "cell_type": "code",
      "source": [
        "user_num = len(users)\n",
        "item_num = len(items)\n",
        "\n",
        "model = GMF_and_MLP(user_num = user_num, item_num = item_num)"
      ],
      "metadata": {
        "id": "lC_bkmFnn8Se"
      },
      "execution_count": null,
      "outputs": []
    },
    {
      "cell_type": "markdown",
      "source": [
        "## 훈련"
      ],
      "metadata": {
        "id": "Qh1DGmJKoegv"
      }
    },
    {
      "cell_type": "code",
      "source": [
        "lr = 0.01\n",
        "epochs = 20\n",
        "\n",
        "criterion = nn.MSELoss()\n",
        "optimizer = optim.Adam(model.parameters(), lr = lr)"
      ],
      "metadata": {
        "id": "CtM-Hdaqn8P3"
      },
      "execution_count": null,
      "outputs": []
    },
    {
      "cell_type": "code",
      "source": [
        "from datetime import datetime\n",
        "start_time = datetime.now()\n",
        "\n",
        "for epoch in range(1, epochs + 1) :\n",
        "  train_loss = 0\n",
        "\n",
        "  for user, item, label in loader :\n",
        "    label = label.float()\n",
        "\n",
        "    optimizer.zero_grad()\n",
        "    output = model(user, item)\n",
        "    loss = criterion(output, label)\n",
        "    loss.backward()\n",
        "    optimizer.step()\n",
        "\n",
        "    train_loss += loss.item()\n",
        "\n",
        "  train_loss /= len(loader)\n",
        "  print(f\"\\n[Epoch : {epoch}], \\tTrain Loss : {train_loss:.4f}\")\n",
        "\n",
        "end_time = datetime.now()\n",
        "print('\\nelapsed time', end_time - start_time)"
      ],
      "metadata": {
        "colab": {
          "base_uri": "https://localhost:8080/"
        },
        "id": "6XNrkSSHn8NZ",
        "outputId": "1487bd4a-a626-46f6-8367-fae81858e55a"
      },
      "execution_count": null,
      "outputs": [
        {
          "output_type": "stream",
          "name": "stdout",
          "text": [
            "\n",
            "[Epoch : 1], \tTrain Loss : 1.1876\n",
            "\n",
            "[Epoch : 2], \tTrain Loss : 0.5467\n",
            "\n",
            "[Epoch : 3], \tTrain Loss : 0.3134\n",
            "\n",
            "[Epoch : 4], \tTrain Loss : 0.2207\n",
            "\n",
            "[Epoch : 5], \tTrain Loss : 0.1864\n",
            "\n",
            "[Epoch : 6], \tTrain Loss : 0.1697\n",
            "\n",
            "[Epoch : 7], \tTrain Loss : 0.1616\n",
            "\n",
            "[Epoch : 8], \tTrain Loss : 0.1589\n",
            "\n",
            "[Epoch : 9], \tTrain Loss : 0.1557\n",
            "\n",
            "[Epoch : 10], \tTrain Loss : 0.1552\n",
            "\n",
            "[Epoch : 11], \tTrain Loss : 0.1516\n",
            "\n",
            "[Epoch : 12], \tTrain Loss : 0.1513\n",
            "\n",
            "[Epoch : 13], \tTrain Loss : 0.1487\n",
            "\n",
            "[Epoch : 14], \tTrain Loss : 0.1453\n",
            "\n",
            "[Epoch : 15], \tTrain Loss : 0.1452\n",
            "\n",
            "[Epoch : 16], \tTrain Loss : 0.1417\n",
            "\n",
            "[Epoch : 17], \tTrain Loss : 0.1402\n",
            "\n",
            "[Epoch : 18], \tTrain Loss : 0.1374\n",
            "\n",
            "[Epoch : 19], \tTrain Loss : 0.1339\n",
            "\n",
            "[Epoch : 20], \tTrain Loss : 0.1325\n",
            "\n",
            "elapsed time 0:00:00.673356\n"
          ]
        }
      ]
    },
    {
      "cell_type": "markdown",
      "source": [
        "##평가"
      ],
      "metadata": {
        "id": "3WTqD49tohnn"
      }
    },
    {
      "cell_type": "code",
      "source": [
        "def hit(gt_item, pred_items):\n",
        "    if gt_item in pred_items:\n",
        "        return 1\n",
        "    return 0\n",
        "\n",
        "\n",
        "def ndcg(gt_item, pred_items):\n",
        "    if gt_item in pred_items:\n",
        "        index = pred_items.index(gt_item)\n",
        "        return np.reciprocal(np.log2(index + 2))\n",
        "    return 0\n",
        "\n",
        "\n",
        "def metrics(model, test_loader, top_k):\n",
        "    HR, NDCG = [], []\n",
        "\n",
        "    for user, item, _ in test_loader:\n",
        "\n",
        "        predictions = model(user, item)\n",
        "        _, indices = torch.topk(predictions, top_k)\n",
        "        recommends = torch.take(item, indices).numpy().tolist()\n",
        "        gt_item = item[0].item()\n",
        "\n",
        "        HR.append(hit(gt_item, recommends))\n",
        "        NDCG.append(ndcg(gt_item, recommends))\n",
        "\n",
        "    return np.mean(HR), np.mean(NDCG)"
      ],
      "metadata": {
        "id": "kNMi8lXKn8K-"
      },
      "execution_count": null,
      "outputs": []
    },
    {
      "cell_type": "code",
      "source": [
        "metrics(model, test_loader, 10)"
      ],
      "metadata": {
        "colab": {
          "base_uri": "https://localhost:8080/"
        },
        "id": "xPX0Vz_4n8Im",
        "outputId": "130ab093-0606-4c96-eb46-0659bab9bae4"
      },
      "execution_count": null,
      "outputs": [
        {
          "output_type": "execute_result",
          "data": {
            "text/plain": [
              "(0.07142857142857142, 0.021502142547427227)"
            ]
          },
          "metadata": {},
          "execution_count": 81
        }
      ]
    },
    {
      "cell_type": "markdown",
      "source": [
        "## 데이터 적용"
      ],
      "metadata": {
        "id": "NdUsL4kgr8Q2"
      }
    },
    {
      "cell_type": "code",
      "source": [
        "user_id = 0\n",
        "user_candidate_item = np.array(iids).reshape(-1, 1)\n",
        "user_input = np.full(len(user_candidate_item), user_id, dtype='int32').reshape(-1, 1)\n",
        "\n",
        "class CustomDataset(Dataset) :\n",
        "\n",
        "  def __init__(self) :\n",
        "    self.users = user_input\n",
        "    self.items = user_candidate_item\n",
        "\n",
        "  def __len__(self) :\n",
        "    return len(self.users)\n",
        "\n",
        "  def __getitem__(self, idx) :\n",
        "\n",
        "    user = self.users[idx]\n",
        "    item = self.items[idx]\n",
        "\n",
        "    return user, item\n",
        "\n",
        "dataset = CustomDataset()\n",
        "\n",
        "loader = DataLoader(dataset = dataset, \n",
        "                    batch_size = 128)"
      ],
      "metadata": {
        "id": "Kd_aM8M6n8F_"
      },
      "execution_count": null,
      "outputs": []
    },
    {
      "cell_type": "code",
      "source": [
        "def recommend(model, test_loader, top_k):\n",
        "\n",
        "    for user, item in loader:\n",
        "\n",
        "        predictions = model(user, item)\n",
        "        _, indices = torch.topk(predictions, top_k)\n",
        "        recommends = torch.take(item, indices).numpy().tolist()\n",
        "\n",
        "    return recommends\n",
        "\n",
        "recommends = metrics(model, loader, 10)\n",
        "recommends"
      ],
      "metadata": {
        "id": "p9SeY9LcsMfu",
        "colab": {
          "base_uri": "https://localhost:8080/"
        },
        "outputId": "811e1ca6-25b6-4842-d150-dfaddb98f287"
      },
      "execution_count": null,
      "outputs": [
        {
          "output_type": "execute_result",
          "data": {
            "text/plain": [
              "[24, 178, 167, 156, 166, 178, 195, 65, 11, 14]"
            ]
          },
          "metadata": {},
          "execution_count": 87
        }
      ]
    },
    {
      "cell_type": "code",
      "source": [
        "for idx in recommends :\n",
        "\n",
        "  store = []\n",
        "  store.append(df['Store'][idx])\n",
        "\n",
        "  print(store)"
      ],
      "metadata": {
        "colab": {
          "base_uri": "https://localhost:8080/"
        },
        "id": "xjf3DILtsEof",
        "outputId": "faccaccd-ae4d-4e1b-8a30-aee4be8a1761"
      },
      "execution_count": null,
      "outputs": [
        {
          "output_type": "stream",
          "name": "stdout",
          "text": [
            "['롯데리아']\n",
            "['후라이드참잘하는집']\n",
            "['지코바숯불치킨']\n",
            "['이마미야 요코하마 이에케이 라멘']\n",
            "['불향 제육']\n",
            "['후라이드참잘하는집']\n",
            "['순살만공격']\n",
            "['분식쌀롱']\n",
            "['삼첩분식']\n",
            "['피자나라치킨공주']\n"
          ]
        }
      ]
    },
    {
      "cell_type": "code",
      "source": [],
      "metadata": {
        "id": "ZhXTnqUOsGMu"
      },
      "execution_count": null,
      "outputs": []
    }
  ]
}